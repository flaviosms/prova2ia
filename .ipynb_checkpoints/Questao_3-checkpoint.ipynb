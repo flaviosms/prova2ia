{
 "cells": [
  {
   "cell_type": "code",
   "execution_count": 3,
   "metadata": {},
   "outputs": [
    {
     "data": {
      "text/html": [
       "<div>\n",
       "<style scoped>\n",
       "    .dataframe tbody tr th:only-of-type {\n",
       "        vertical-align: middle;\n",
       "    }\n",
       "\n",
       "    .dataframe tbody tr th {\n",
       "        vertical-align: top;\n",
       "    }\n",
       "\n",
       "    .dataframe thead th {\n",
       "        text-align: right;\n",
       "    }\n",
       "</style>\n",
       "<table border=\"1\" class=\"dataframe\">\n",
       "  <thead>\n",
       "    <tr style=\"text-align: right;\">\n",
       "      <th></th>\n",
       "      <th>AP1</th>\n",
       "      <th>AP2</th>\n",
       "      <th>AP3</th>\n",
       "      <th>AP4</th>\n",
       "      <th>AP5</th>\n",
       "      <th>Coordenada X</th>\n",
       "      <th>Coordenada Y</th>\n",
       "    </tr>\n",
       "  </thead>\n",
       "  <tbody>\n",
       "    <tr>\n",
       "      <th>count</th>\n",
       "      <td>262.00000</td>\n",
       "      <td>262.000000</td>\n",
       "      <td>262.000000</td>\n",
       "      <td>262.000000</td>\n",
       "      <td>262.000000</td>\n",
       "      <td>262.000000</td>\n",
       "      <td>262.000000</td>\n",
       "    </tr>\n",
       "    <tr>\n",
       "      <th>mean</th>\n",
       "      <td>67.90458</td>\n",
       "      <td>62.129771</td>\n",
       "      <td>58.122137</td>\n",
       "      <td>71.454198</td>\n",
       "      <td>65.183206</td>\n",
       "      <td>12.026985</td>\n",
       "      <td>12.612634</td>\n",
       "    </tr>\n",
       "    <tr>\n",
       "      <th>std</th>\n",
       "      <td>10.29165</td>\n",
       "      <td>8.530672</td>\n",
       "      <td>8.323924</td>\n",
       "      <td>9.232823</td>\n",
       "      <td>7.128596</td>\n",
       "      <td>5.079505</td>\n",
       "      <td>5.139619</td>\n",
       "    </tr>\n",
       "    <tr>\n",
       "      <th>min</th>\n",
       "      <td>38.00000</td>\n",
       "      <td>35.000000</td>\n",
       "      <td>33.000000</td>\n",
       "      <td>38.000000</td>\n",
       "      <td>51.000000</td>\n",
       "      <td>1.390000</td>\n",
       "      <td>1.570000</td>\n",
       "    </tr>\n",
       "    <tr>\n",
       "      <th>25%</th>\n",
       "      <td>61.00000</td>\n",
       "      <td>57.000000</td>\n",
       "      <td>53.000000</td>\n",
       "      <td>66.250000</td>\n",
       "      <td>60.000000</td>\n",
       "      <td>8.442500</td>\n",
       "      <td>9.412500</td>\n",
       "    </tr>\n",
       "    <tr>\n",
       "      <th>50%</th>\n",
       "      <td>69.00000</td>\n",
       "      <td>63.000000</td>\n",
       "      <td>58.000000</td>\n",
       "      <td>74.000000</td>\n",
       "      <td>65.000000</td>\n",
       "      <td>12.400000</td>\n",
       "      <td>13.630000</td>\n",
       "    </tr>\n",
       "    <tr>\n",
       "      <th>75%</th>\n",
       "      <td>75.75000</td>\n",
       "      <td>68.000000</td>\n",
       "      <td>65.000000</td>\n",
       "      <td>78.000000</td>\n",
       "      <td>69.000000</td>\n",
       "      <td>16.357500</td>\n",
       "      <td>16.710000</td>\n",
       "    </tr>\n",
       "    <tr>\n",
       "      <th>max</th>\n",
       "      <td>90.00000</td>\n",
       "      <td>81.000000</td>\n",
       "      <td>75.000000</td>\n",
       "      <td>86.000000</td>\n",
       "      <td>84.000000</td>\n",
       "      <td>20.450000</td>\n",
       "      <td>19.630000</td>\n",
       "    </tr>\n",
       "  </tbody>\n",
       "</table>\n",
       "</div>"
      ],
      "text/plain": [
       "             AP1         AP2         AP3         AP4         AP5  \\\n",
       "count  262.00000  262.000000  262.000000  262.000000  262.000000   \n",
       "mean    67.90458   62.129771   58.122137   71.454198   65.183206   \n",
       "std     10.29165    8.530672    8.323924    9.232823    7.128596   \n",
       "min     38.00000   35.000000   33.000000   38.000000   51.000000   \n",
       "25%     61.00000   57.000000   53.000000   66.250000   60.000000   \n",
       "50%     69.00000   63.000000   58.000000   74.000000   65.000000   \n",
       "75%     75.75000   68.000000   65.000000   78.000000   69.000000   \n",
       "max     90.00000   81.000000   75.000000   86.000000   84.000000   \n",
       "\n",
       "       Coordenada X  Coordenada Y  \n",
       "count    262.000000    262.000000  \n",
       "mean      12.026985     12.612634  \n",
       "std        5.079505      5.139619  \n",
       "min        1.390000      1.570000  \n",
       "25%        8.442500      9.412500  \n",
       "50%       12.400000     13.630000  \n",
       "75%       16.357500     16.710000  \n",
       "max       20.450000     19.630000  "
      ]
     },
     "execution_count": 3,
     "metadata": {},
     "output_type": "execute_result"
    }
   ],
   "source": [
    "from scipy.io import arff\n",
    "import pandas as pd\n",
    "df_train = pd.read_csv('base_treinamento.csv')\n",
    "df_test = pd.read_csv('base_teste.csv')\n",
    "\n",
    "#pegando o valor absoluto pois todos os valores dos AP são negativos e as coordenadas sao sempre positivas\n",
    "df_train = df_train.abs()\n",
    "df_test = df_test.abs()\n",
    "\n",
    "X_train = df_train[['AP1','AP2','AP3','AP4','AP5']]\n",
    "X_test = df_test[['AP1','AP2','AP3','AP4','AP5']]\n",
    "y_train = df_train[['Coordenada X','Coordenada Y']]\n",
    "y_test = df_test[['Coordenada X','Coordenada Y']]\n",
    "\n",
    "X_train =X_train/100\n",
    "X_test = X_test/100\n",
    "\n",
    "X_train = X_train.values\n",
    "X_test = X_test.values\n",
    "y_train = y_train.values\n",
    "y_test = y_test.values\n",
    "\n",
    "df_train.describe()\n"
   ]
  },
  {
   "cell_type": "code",
   "execution_count": 5,
   "metadata": {},
   "outputs": [
    {
     "data": {
      "text/plain": [
       "<matplotlib.axes._subplots.AxesSubplot at 0x1ce6ca030b8>"
      ]
     },
     "execution_count": 5,
     "metadata": {},
     "output_type": "execute_result"
    },
    {
     "data": {
      "image/png": "[encoded data removed]",
      "text/plain": [
       "<Figure size 720x720 with 1 Axes>"
      ]
     },
     "metadata": {
      "needs_background": "light"
     },
     "output_type": "display_data"
    }
   ],
   "source": [
    "bp = df_train.boxplot(figsize=(10,10))\n",
    "bp"
   ]
  },
  {
   "cell_type": "code",
   "execution_count": 10,
   "metadata": {},
   "outputs": [
    {
     "data": {
      "text/plain": [
       "(262, 2)"
      ]
     },
     "execution_count": 10,
     "metadata": {},
     "output_type": "execute_result"
    }
   ],
   "source": [
    "y_train.shape"
   ]
  },
  {
   "cell_type": "code",
   "execution_count": 90,
   "metadata": {},
   "outputs": [
    {
     "data": {
      "text/plain": [
       "MLPRegressor(activation='relu', alpha=0.0001, batch_size='auto', beta_1=0.9,\n",
       "       beta_2=0.999, early_stopping=False, epsilon=1e-08,\n",
       "       hidden_layer_sizes=(5,), learning_rate='constant',\n",
       "       learning_rate_init=0.001, max_iter=200000, momentum=0.9,\n",
       "       n_iter_no_change=10, nesterovs_momentum=True, power_t=0.5,\n",
       "       random_state=1, shuffle=True, solver='adam', tol=0.0001,\n",
       "       validation_fraction=0.1, verbose=False, warm_start=False)"
      ]
     },
     "execution_count": 90,
     "metadata": {},
     "output_type": "execute_result"
    }
   ],
   "source": [
    "from sklearn.neural_network import MLPRegressor\n",
    "clf = MLPRegressor(random_state=1,max_iter=200000,hidden_layer_sizes=(5,))\n",
    "clf.fit(X_train,y_train)\n"
   ]
  },
  {
   "cell_type": "code",
   "execution_count": 91,
   "metadata": {},
   "outputs": [
    {
     "name": "stdout",
     "output_type": "stream",
     "text": [
      "4.368598835754359 10.77069223566214 6.5 11.379697567687035 10.46\n",
      "3.967069944698531 11.193531883048868 7.48 11.81546583609558 10.42\n",
      "3.294910160335249 11.627016813867646 8.41 12.262204874999682 11.55\n",
      "3.8441530506707755 12.287032551297113 8.46 12.942401060006379 12.58\n",
      "4.492501905313357 12.861872766345432 8.37 13.534817420845165 13.61\n",
      "5.2101272512969095 13.57742600977453 8.37 14.27224921034345 14.44\n",
      "4.8665116378097695 11.839614865731917 7.43 12.481303262533793 14.54\n",
      "5.430666340515687 11.817865232187023 6.5 12.458888618573713 13.56\n",
      "6.836594292631933 12.260642722642341 5.43 12.915204343691908 12.63\n",
      "8.66687139558597 13.011878354362754 4.41 13.689409535718752 12.63\n",
      "10.282886415748962 13.627101961305675 3.47 14.32344403919656 12.72\n",
      "12.019806788089284 14.347327509036544 2.41 15.06569099200236 13.66\n",
      "11.096693439894278 13.429013984485659 2.41 14.119299382504845 15.43\n",
      "11.963658015544967 14.081902220139392 2.45 14.792150137332307 17.59\n",
      "10.43792258305765 12.356062167234848 3.52 13.01354130523173 18.57\n",
      "9.910447431732969 13.130676405535153 4.41 13.811839921255324 18.52\n",
      "9.059412099357077 13.128615913971979 5.39 13.809716428706544 18.52\n",
      "7.600552434349153 12.793117850616984 6.41 13.463960274982117 17.59\n",
      "6.884479823101692 13.0879708214293 7.43 13.767828583737199 17.69\n",
      "5.991395502245279 13.236545403379877 8.5 13.920945938522312 17.59\n",
      "6.477814324657935 11.880717444797625 9.43 12.523662581999897 18.52\n",
      "6.204438634133407 12.082302713285488 10.46 12.731411462523596 18.72\n",
      "6.591352637714688 12.082302713285488 10.46 12.731411462523596 19.12\n",
      "5.800543854447526 12.17455440238821 12.46 12.826483812211016 18.62\n",
      "5.255602362383853 12.78480896580141 13.44 13.455397340141772 18.67\n",
      "2.8502050653494178 14.058656302790672 14.46 14.768193459633736 17.59\n",
      "5.597428599456092 10.76061626626914 14.46 11.36931351840958 15.57\n",
      "4.850227485195672 10.364704397424747 14.46 10.961296364401026 13.56\n",
      "4.229282358372545 11.26030237726452 15.44 11.884277885355772 12.53\n",
      "6.1559597950237555 10.477774302245601 16.46 11.077823461463517 12.53\n",
      "6.056644252233569 11.534226858845818 17.44 12.16657780153231 13.51\n",
      "7.197369409761613 11.258853612515965 17.44 11.882784823601249 15.57\n",
      "5.890088715045214 12.973688143262493 17.44 13.650051631926683 17.49\n",
      "8.01446191993744 12.523361818908068 18.46 13.185956261978475 18.57\n",
      "7.915313378450195 13.165290874155524 19.48 13.847512751714351 18.62\n",
      "9.17170365857746 12.472032791408823 20.46 13.133057813191382 17.64\n",
      "8.17943125363194 12.589314614029345 20.46 13.253925610416648 15.48\n",
      "8.370466789977808 12.126262569931644 20.46 12.776715422851286 13.56\n",
      "8.507540978832797 11.010459479782607 19.48 11.626795864729896 12.43\n",
      "7.678495239307381 10.783120125565024 18.46 11.392505449105961 11.55\n",
      "8.421675198712858 9.07525533018069 17.44 9.632421480726638 10.61\n",
      "5.405116103780905 10.077103984674276 15.48 10.664902365795612 10.51\n",
      "7.021668087417851 7.602613109875733 14.5 8.114752183881627 9.43\n",
      "9.768619014694192 5.898009817810905 15.44 6.358029441590567 8.45\n",
      "8.588716139367449 6.838354850511687 15.39 7.327126188168402 6.53\n",
      "8.867679919173874 6.966013626760896 15.35 7.45868822171251 4.57\n",
      "10.083951933524325 6.224930666546962 15.44 6.694946126297922 2.6\n",
      "11.235044365881635 5.743712108965823 16.42 6.199013971261854 2.7\n",
      "10.106359011795218 6.715639521524011 16.46 7.200658751279174 4.52\n",
      "9.414008845626388 7.160070720010536 16.5 7.658678747720233 6.48\n",
      "8.503015152876392 7.997033511319081 16.5 8.52123226781939 8.55\n",
      "8.552223106206045 7.130635460845422 15.48 7.628343484705488 9.48\n",
      "3.633562808646133 10.759140182576854 14.29 11.367792302415314 10.51\n",
      "1.7280819980721556 11.019695827294145 12.41 11.636314620093536 10.61\n",
      "2.4329850599680984 8.533482649267082 10.46 9.074083717246161 10.56\n",
      "3.6309854086004965 7.487655344528205 10.95 7.996279503622786 9.09\n",
      "3.7733667478306447 7.258060084599165 10.95 7.759664206376117 6.98\n",
      "6.383669721415219 4.606352593119536 10.99 5.0268788844945025 5.01\n",
      "5.998284682254843 6.511305964607992 10.99 6.990077551466529 3.0\n",
      "7.618150724007748 5.3302068019280995 12.01 5.772865447254668 2.11\n",
      "7.593136690275635 6.562845357701148 12.99 7.043192797924227 3.0\n",
      "7.42177783482431 5.5938132683394315 12.95 6.044531867656114 5.06\n",
      "5.8949110728818175 7.085936762157049 12.95 7.582278091718029 6.98\n",
      "4.724029640629686 8.229375082584514 12.95 8.760677846812266 8.94\n",
      "3.67652718386585 8.384362769387883 12.01 8.920404391662917 9.53\n"
     ]
    }
   ],
   "source": [
    "y_pred = clf.predict(X_test)#testando\n",
    "for i in range(y_pred.shape[0]):\n",
    "    predx = y_pred[i][0]\n",
    "    predy = y_pred[i][1]\n",
    "    tesx = y_test[i][0]\n",
    "    tesy = y_test[i][1]\n",
    "    distance = (float((predx-tesx)**2) +  float((predy-tesy)**2))**0.5\n",
    "    media = media +distance /2\n",
    "    print(media)"
   ]
  }
 ],
 "metadata": {
  "kernelspec": {
   "display_name": "Python 3",
   "language": "python",
   "name": "python3"
  },
  "language_info": {
   "codemirror_mode": {
    "name": "ipython",
    "version": 3
   },
   "file_extension": ".py",
   "mimetype": "text/x-python",
   "name": "python",
   "nbconvert_exporter": "python",
   "pygments_lexer": "ipython3",
   "version": "3.6.6"
  }
 },
 "nbformat": 4,
 "nbformat_minor": 2
}
