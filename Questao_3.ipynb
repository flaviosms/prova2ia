{
 "cells": [
  {
   "cell_type": "code",
   "execution_count": 4,
   "metadata": {},
   "outputs": [
    {
     "data": {
      "text/html": [
       "<div>\n",
       "<style scoped>\n",
       "    .dataframe tbody tr th:only-of-type {\n",
       "        vertical-align: middle;\n",
       "    }\n",
       "\n",
       "    .dataframe tbody tr th {\n",
       "        vertical-align: top;\n",
       "    }\n",
       "\n",
       "    .dataframe thead th {\n",
       "        text-align: right;\n",
       "    }\n",
       "</style>\n",
       "<table border=\"1\" class=\"dataframe\">\n",
       "  <thead>\n",
       "    <tr style=\"text-align: right;\">\n",
       "      <th></th>\n",
       "      <th>AP1</th>\n",
       "      <th>AP2</th>\n",
       "      <th>AP3</th>\n",
       "      <th>AP4</th>\n",
       "      <th>AP5</th>\n",
       "      <th>Coordenada X</th>\n",
       "      <th>Coordenada Y</th>\n",
       "    </tr>\n",
       "  </thead>\n",
       "  <tbody>\n",
       "    <tr>\n",
       "      <th>count</th>\n",
       "      <td>262.00000</td>\n",
       "      <td>262.000000</td>\n",
       "      <td>262.000000</td>\n",
       "      <td>262.000000</td>\n",
       "      <td>262.000000</td>\n",
       "      <td>262.000000</td>\n",
       "      <td>262.000000</td>\n",
       "    </tr>\n",
       "    <tr>\n",
       "      <th>mean</th>\n",
       "      <td>67.90458</td>\n",
       "      <td>62.129771</td>\n",
       "      <td>58.122137</td>\n",
       "      <td>71.454198</td>\n",
       "      <td>65.183206</td>\n",
       "      <td>12.026985</td>\n",
       "      <td>12.612634</td>\n",
       "    </tr>\n",
       "    <tr>\n",
       "      <th>std</th>\n",
       "      <td>10.29165</td>\n",
       "      <td>8.530672</td>\n",
       "      <td>8.323924</td>\n",
       "      <td>9.232823</td>\n",
       "      <td>7.128596</td>\n",
       "      <td>5.079505</td>\n",
       "      <td>5.139619</td>\n",
       "    </tr>\n",
       "    <tr>\n",
       "      <th>min</th>\n",
       "      <td>38.00000</td>\n",
       "      <td>35.000000</td>\n",
       "      <td>33.000000</td>\n",
       "      <td>38.000000</td>\n",
       "      <td>51.000000</td>\n",
       "      <td>1.390000</td>\n",
       "      <td>1.570000</td>\n",
       "    </tr>\n",
       "    <tr>\n",
       "      <th>25%</th>\n",
       "      <td>61.00000</td>\n",
       "      <td>57.000000</td>\n",
       "      <td>53.000000</td>\n",
       "      <td>66.250000</td>\n",
       "      <td>60.000000</td>\n",
       "      <td>8.442500</td>\n",
       "      <td>9.412500</td>\n",
       "    </tr>\n",
       "    <tr>\n",
       "      <th>50%</th>\n",
       "      <td>69.00000</td>\n",
       "      <td>63.000000</td>\n",
       "      <td>58.000000</td>\n",
       "      <td>74.000000</td>\n",
       "      <td>65.000000</td>\n",
       "      <td>12.400000</td>\n",
       "      <td>13.630000</td>\n",
       "    </tr>\n",
       "    <tr>\n",
       "      <th>75%</th>\n",
       "      <td>75.75000</td>\n",
       "      <td>68.000000</td>\n",
       "      <td>65.000000</td>\n",
       "      <td>78.000000</td>\n",
       "      <td>69.000000</td>\n",
       "      <td>16.357500</td>\n",
       "      <td>16.710000</td>\n",
       "    </tr>\n",
       "    <tr>\n",
       "      <th>max</th>\n",
       "      <td>90.00000</td>\n",
       "      <td>81.000000</td>\n",
       "      <td>75.000000</td>\n",
       "      <td>86.000000</td>\n",
       "      <td>84.000000</td>\n",
       "      <td>20.450000</td>\n",
       "      <td>19.630000</td>\n",
       "    </tr>\n",
       "  </tbody>\n",
       "</table>\n",
       "</div>"
      ],
      "text/plain": [
       "             AP1         AP2         AP3         AP4         AP5  \\\n",
       "count  262.00000  262.000000  262.000000  262.000000  262.000000   \n",
       "mean    67.90458   62.129771   58.122137   71.454198   65.183206   \n",
       "std     10.29165    8.530672    8.323924    9.232823    7.128596   \n",
       "min     38.00000   35.000000   33.000000   38.000000   51.000000   \n",
       "25%     61.00000   57.000000   53.000000   66.250000   60.000000   \n",
       "50%     69.00000   63.000000   58.000000   74.000000   65.000000   \n",
       "75%     75.75000   68.000000   65.000000   78.000000   69.000000   \n",
       "max     90.00000   81.000000   75.000000   86.000000   84.000000   \n",
       "\n",
       "       Coordenada X  Coordenada Y  \n",
       "count    262.000000    262.000000  \n",
       "mean      12.026985     12.612634  \n",
       "std        5.079505      5.139619  \n",
       "min        1.390000      1.570000  \n",
       "25%        8.442500      9.412500  \n",
       "50%       12.400000     13.630000  \n",
       "75%       16.357500     16.710000  \n",
       "max       20.450000     19.630000  "
      ]
     },
     "execution_count": 4,
     "metadata": {},
     "output_type": "execute_result"
    }
   ],
   "source": [
    "from scipy.io import arff\n",
    "import pandas as pd\n",
    "df_train = pd.read_csv('base_treinamento.csv')\n",
    "df_test = pd.read_csv('base_teste.csv')\n",
    "\n",
    "#pegando o valor absoluto pois todos os valores dos AP são negativos e as coordenadas sao sempre positivas\n",
    "df_train = df_train.abs()\n",
    "df_test = df_test.abs()\n",
    "\n",
    "X_train = df_train[['AP1','AP2','AP3','AP4','AP5']]\n",
    "X_test = df_test[['AP1','AP2','AP3','AP4','AP5']]\n",
    "y_train = df_train[['Coordenada X','Coordenada Y']]\n",
    "y_test = df_test[['Coordenada X','Coordenada Y']]\n",
    "\n",
    "X_train =X_train/100\n",
    "X_test = X_test/100\n",
    "\n",
    "X_train = X_train.values\n",
    "X_test = X_test.values\n",
    "y_train = y_train.values\n",
    "y_test = y_test.values\n",
    "\n",
    "df_train.describe()\n"
   ]
  },
  {
   "cell_type": "code",
   "execution_count": 2,
   "metadata": {},
   "outputs": [
    {
     "data": {
      "text/plain": [
       "<matplotlib.axes._subplots.AxesSubplot at 0x20a9ca3c0b8>"
      ]
     },
     "execution_count": 2,
     "metadata": {},
     "output_type": "execute_result"
    }
   ],
   "source": [
    "bp = df_train.boxplot(figsize=(10,10))\n",
    "bp"
   ]
  },
  {
   "cell_type": "code",
   "execution_count": 3,
   "metadata": {},
   "outputs": [
    {
     "data": {
      "text/plain": [
       "(262, 2)"
      ]
     },
     "execution_count": 3,
     "metadata": {},
     "output_type": "execute_result"
    }
   ],
   "source": [
    "y_train.shape"
   ]
  },
  {
   "cell_type": "code",
   "execution_count": 185,
   "metadata": {},
   "outputs": [
    {
     "data": {
      "text/plain": [
       "MLPRegressor(activation='relu', alpha=0.0001, batch_size='auto', beta_1=0.9,\n",
       "       beta_2=0.999, early_stopping=False, epsilon=1e-08,\n",
       "       hidden_layer_sizes=(1,), learning_rate='constant',\n",
       "       learning_rate_init=0.001, max_iter=10000, momentum=0.9,\n",
       "       n_iter_no_change=10, nesterovs_momentum=True, power_t=0.5,\n",
       "       random_state=1, shuffle=True, solver='adam', tol=0.0001,\n",
       "       validation_fraction=0.1, verbose=False, warm_start=False)"
      ]
     },
     "execution_count": 185,
     "metadata": {},
     "output_type": "execute_result"
    }
   ],
   "source": [
    "from sklearn.neural_network import MLPRegressor\n",
    "clf = MLPRegressor(random_state=1,max_iter=10000,hidden_layer_sizes=(1,))\n",
    "clf.fit(X_train,y_train)\n",
    "\n"
   ]
  },
  {
   "cell_type": "code",
   "execution_count": 186,
   "metadata": {},
   "outputs": [
    {
     "name": "stdout",
     "output_type": "stream",
     "text": [
      "6.575409003186499\n"
     ]
    }
   ],
   "source": [
    "import numpy as np\n",
    "y_pred = clf.predict(X_test)#testando\n",
    "distances = []\n",
    "for i in range(y_pred.shape[0]):\n",
    "    predx = y_pred[i][0]\n",
    "    predy = y_pred[i][1]\n",
    "    tesx = y_test[i][0]\n",
    "    tesy = y_test[i][1]\n",
    "    distance = (float((predx-tesx)**2) +  float((predy-tesy)**2))**0.5\n",
    "    distances.append(distance)\n",
    "print(np.mean(distances))"
   ]
  },
  {
   "cell_type": "code",
   "execution_count": 146,
   "metadata": {},
   "outputs": [],
   "source": [
    "parameter_space = {\n",
    "    'max_iter' : [10**3,10**4],\n",
    "    'hidden_layer_sizes': [(5,5,5), (5,10,5), (5,),(2,),(1,),(10)],\n",
    "    'activation': ['tanh', 'relu','tanh','identity'],\n",
    "    'solver': ['sgd', 'adam'],\n",
    "    'alpha': [0.0001, 0.05],\n",
    "}"
   ]
  },
  {
   "cell_type": "code",
   "execution_count": 147,
   "metadata": {},
   "outputs": [
    {
     "name": "stderr",
     "output_type": "stream",
     "text": [
      "C:\\Users\\Flavio\\Anaconda3\\envs\\test\\lib\\site-packages\\sklearn\\model_selection\\_search.py:841: DeprecationWarning: The default of the `iid` parameter will change from True to False in version 0.22 and will be removed in 0.24. This will change numeric results when test-set sizes are unequal.\n",
      "  DeprecationWarning)\n"
     ]
    },
    {
     "data": {
      "text/plain": [
       "GridSearchCV(cv=5, error_score='raise-deprecating',\n",
       "       estimator=MLPRegressor(activation='relu', alpha=0.0001, batch_size='auto', beta_1=0.9,\n",
       "       beta_2=0.999, early_stopping=False, epsilon=1e-08,\n",
       "       hidden_layer_sizes=(1,), learning_rate='constant',\n",
       "       learning_rate_init=0.001, max_iter=10000, momentum=0.9,\n",
       "       n_iter_no_change=10, nesterovs_momentum=True, power_t=0.5,\n",
       "       random_state=3, shuffle=True, solver='adam', tol=0.0001,\n",
       "       validation_fraction=0.1, verbose=False, warm_start=False),\n",
       "       fit_params=None, iid='warn', n_jobs=-4,\n",
       "       param_grid={'max_iter': [1000, 10000], 'hidden_layer_sizes': [(5, 5, 5), (5, 10, 5), (5,), (2,), (1,), 10], 'activation': ['tanh', 'relu', 'tanh', 'identity'], 'solver': ['sgd', 'adam'], 'alpha': [0.0001, 0.05]},\n",
       "       pre_dispatch='2*n_jobs', refit=True, return_train_score='warn',\n",
       "       scoring=None, verbose=0)"
      ]
     },
     "execution_count": 147,
     "metadata": {},
     "output_type": "execute_result"
    }
   ],
   "source": [
    "from sklearn.model_selection import GridSearchCV\n",
    "gridclf = GridSearchCV(clf, parameter_space, n_jobs=-4, cv=5)\n",
    "gridclf.fit(X_train, y_train)"
   ]
  },
  {
   "cell_type": "code",
   "execution_count": 152,
   "metadata": {},
   "outputs": [
    {
     "name": "stdout",
     "output_type": "stream",
     "text": [
      "Best parameters found:\n",
      " {'activation': 'identity', 'alpha': 0.0001, 'hidden_layer_sizes': (5, 5, 5), 'max_iter': 1000, 'solver': 'sgd'}\n"
     ]
    }
   ],
   "source": [
    "# Best paramete set\n",
    "print('Best parameters found:\\n', gridclf.best_params_)"
   ]
  },
  {
   "cell_type": "code",
   "execution_count": 13,
   "metadata": {},
   "outputs": [
    {
     "data": {
      "text/plain": [
       "array([[[0.45, 0.64],\n",
       "        [0.59, 0.73],\n",
       "        [0.51, 0.42],\n",
       "        [0.69, 0.62],\n",
       "        [0.78, 0.59]],\n",
       "\n",
       "       [[0.56, 0.71],\n",
       "        [0.61, 0.85],\n",
       "        [0.61, 0.54],\n",
       "        [0.72, 0.63],\n",
       "        [0.77, 0.6 ]],\n",
       "\n",
       "       [[0.58, 0.69],\n",
       "        [0.64, 0.81],\n",
       "        [0.63, 0.63],\n",
       "        [0.7 , 0.62],\n",
       "        [0.76, 0.65]],\n",
       "\n",
       "       ...,\n",
       "\n",
       "       [[0.8 , 0.76],\n",
       "        [0.6 , 0.59],\n",
       "        [0.79, 0.84],\n",
       "        [0.79, 0.63],\n",
       "        [0.6 , 0.68]],\n",
       "\n",
       "       [[0.8 , 0.72],\n",
       "        [0.63, 0.51],\n",
       "        [0.72, 0.75],\n",
       "        [0.64, 0.59],\n",
       "        [0.48, 0.69]],\n",
       "\n",
       "       [[0.75, 0.75],\n",
       "        [0.56, 0.56],\n",
       "        [0.77, 0.74],\n",
       "        [0.76, 0.58],\n",
       "        [0.52, 0.66]]])"
      ]
     },
     "execution_count": 13,
     "metadata": {},
     "output_type": "execute_result"
    }
   ],
   "source": [
    "test =X_train.reshape(131,5,2)\n",
    "test"
   ]
  },
  {
   "cell_type": "code",
   "execution_count": 2,
   "metadata": {},
   "outputs": [
    {
     "name": "stderr",
     "output_type": "stream",
     "text": [
      "Using TensorFlow backend.\n"
     ]
    }
   ],
   "source": [
    "#Load Packages\n",
    "import numpy as np\n",
    "from keras.models import Sequential\n",
    "from keras.layers import Dense\n",
    "from keras.layers import LSTM\n",
    "from keras.layers import Activation\n",
    "#Generate 2 sets of X variables\n",
    "#LSTMs have unique 3-dimensional input requirements \n",
    "seq_length=5\n",
    "X =[[i+j for j in range(seq_length)] for i in range(100)]\n",
    "X_simple =[[i for i in range(4,104)]]\n",
    "X =np.array(X)\n",
    "X_simple=np.array(X_simple)"
   ]
  }
 ],
 "metadata": {
  "kernelspec": {
   "display_name": "Python 3",
   "language": "python",
   "name": "python3"
  },
  "language_info": {
   "codemirror_mode": {
    "name": "ipython",
    "version": 3
   },
   "file_extension": ".py",
   "mimetype": "text/x-python",
   "name": "python",
   "nbconvert_exporter": "python",
   "pygments_lexer": "ipython3",
   "version": "3.6.6"
  }
 },
 "nbformat": 4,
 "nbformat_minor": 2
}
